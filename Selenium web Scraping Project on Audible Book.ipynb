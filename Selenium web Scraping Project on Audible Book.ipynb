{
 "cells": [
  {
   "cell_type": "markdown",
   "metadata": {},
   "source": [
    "# Importing Modules "
   ]
  },
  {
   "cell_type": "code",
   "execution_count": 13,
   "metadata": {},
   "outputs": [],
   "source": [
    "from selenium import webdriver\n",
    "from selenium.webdriver.common.keys import Keys\n",
    "from selenium.webdriver.common.by import By\n",
    "import pandas as pd\n",
    "from time import sleep"
   ]
  },
  {
   "cell_type": "markdown",
   "metadata": {},
   "source": [
    "# Variable assign to chrome path and website on which we working on"
   ]
  },
  {
   "cell_type": "code",
   "execution_count": 14,
   "metadata": {},
   "outputs": [
    {
     "name": "stderr",
     "output_type": "stream",
     "text": [
      "C:\\Users\\PUJA\\anaconda3\\lib\\site-packages\\ipykernel_launcher.py:3: DeprecationWarning: executable_path has been deprecated, please pass in a Service object\n",
      "  This is separate from the ipykernel package so we can avoid doing imports until\n"
     ]
    }
   ],
   "source": [
    "web   = \"https://www.audible.in/search\"\n",
    "path  = r\"C:\\Users\\PUJA\\Music\\chromedriver_win32\\chromedriver\"\n",
    "driver= webdriver.Chrome(path)\n",
    "driver.get(web)\n",
    "driver.maximize_window()\n"
   ]
  },
  {
   "cell_type": "markdown",
   "metadata": {},
   "source": [
    "# Use for loop for Scraping page one by one"
   ]
  },
  {
   "cell_type": "code",
   "execution_count": 15,
   "metadata": {},
   "outputs": [
    {
     "name": "stdout",
     "output_type": "stream",
     "text": [
      "Scraping page 1\n",
      "Scraping page 2\n",
      "Scraping page 3\n",
      "Scraping page 4\n",
      "Scraping page 5\n",
      "Scraping page 6\n",
      "Scraping page 7\n",
      "Scraping page 8\n",
      "Scraping page 9\n",
      "Scraping page 10\n"
     ]
    }
   ],
   "source": [
    "book_title    = []  #Create empty list for book title\n",
    "book_auther   = []  #Create empty list for book Auther\n",
    "book_rdate    = []  #Create empty list for book release Date\n",
    "book_length   = []  #Create empty list for book Audio lenght\n",
    "book_language = []  #Create empty list for book language\n",
    "book_price    = []  #Create empty list for book price\n",
    "\n",
    "for i in range(10):\n",
    "    print(\"Scraping page\",i+1)\n",
    "    title = driver.find_elements(By.XPATH,'//li/h3[contains(@class,\"bc-heading\")]')\n",
    "    auther= driver.find_elements(By.XPATH,'//li[contains(@class,\"authorLabel\")]')\n",
    "    rdate=  driver.find_elements(By.XPATH,'//li[contains(@class,\"releaseDateLabel\")]')\n",
    "    length= driver.find_elements(By.XPATH,'//li[contains(@class,\"runtimeLabel\")]')\n",
    "    language= driver.find_elements(By.XPATH,'//li[contains(@class,\"languageLabel\")]')\n",
    "    price= driver.find_elements(By.XPATH,'//p[contains(@class,\"buybox-regular-price\")]')\n",
    "    for i in title:\n",
    "        book_title.append(i.text)\n",
    "    for i in auther:\n",
    "        book_auther.append((i.text).replace(\"Written by:\", \"\"))\n",
    "    for i in rdate:\n",
    "        book_rdate.append((i.text).replace(\"Release Date:\", \"\"))\n",
    "    for i in length:\n",
    "        book_length.append((i.text).replace(\"Length:\", \"\"))\n",
    "    for i in language:\n",
    "        book_language.append((i.text).replace(\"Language:\", \"\"))\n",
    "    for i in price:\n",
    "        book_price.append((i.text).replace(\"Regular price:\", \"\"))    \n",
    "    \n",
    "    next_button=driver.find_element(By.XPATH,'//span[contains(@class,\"nextButton refinementFormButton\")]')\n",
    "    next_button.click()\n",
    "    sleep(2)"
   ]
  },
  {
   "cell_type": "code",
   "execution_count": 16,
   "metadata": {},
   "outputs": [],
   "source": [
    "#DataFrame is used for framing the data \n",
    "df_Audio_book=pd.DataFrame()\n",
    "df_Audio_book[\"AUDIO_BOOK_NAMES\"]  = book_title\n",
    "df_Audio_book[\"writer\"]            = book_auther\n",
    "df_Audio_book[\"Release_date\"]      = book_rdate\n",
    "df_Audio_book[\"Language\"]          = book_language\n",
    "df_Audio_book[\"Audio book Length\"] = book_length\n",
    "df_Audio_book[\"Price\"]             = book_price"
   ]
  },
  {
   "cell_type": "code",
   "execution_count": 17,
   "metadata": {},
   "outputs": [
    {
     "data": {
      "text/html": [
       "<div>\n",
       "<style scoped>\n",
       "    .dataframe tbody tr th:only-of-type {\n",
       "        vertical-align: middle;\n",
       "    }\n",
       "\n",
       "    .dataframe tbody tr th {\n",
       "        vertical-align: top;\n",
       "    }\n",
       "\n",
       "    .dataframe thead th {\n",
       "        text-align: right;\n",
       "    }\n",
       "</style>\n",
       "<table border=\"1\" class=\"dataframe\">\n",
       "  <thead>\n",
       "    <tr style=\"text-align: right;\">\n",
       "      <th></th>\n",
       "      <th>AUDIO_BOOK_NAMES</th>\n",
       "      <th>writer</th>\n",
       "      <th>Release_date</th>\n",
       "      <th>Language</th>\n",
       "      <th>Audio book Length</th>\n",
       "      <th>Price</th>\n",
       "    </tr>\n",
       "  </thead>\n",
       "  <tbody>\n",
       "    <tr>\n",
       "      <th>0</th>\n",
       "      <td>Harry Potter and the Philosopher's Stone, Book 1</td>\n",
       "      <td>J.K. Rowling</td>\n",
       "      <td>20-11-15</td>\n",
       "      <td>English</td>\n",
       "      <td>9 hrs and 33 mins</td>\n",
       "      <td>₹999.00</td>\n",
       "    </tr>\n",
       "    <tr>\n",
       "      <th>1</th>\n",
       "      <td>Scion of Ikshvaku</td>\n",
       "      <td>Amish</td>\n",
       "      <td>21-06-17</td>\n",
       "      <td>English</td>\n",
       "      <td>11 hrs and 35 mins</td>\n",
       "      <td>₹234.00</td>\n",
       "    </tr>\n",
       "    <tr>\n",
       "      <th>2</th>\n",
       "      <td>The Sex Book</td>\n",
       "      <td>Leeza Mangaldas</td>\n",
       "      <td>17-10-22</td>\n",
       "      <td>English</td>\n",
       "      <td>6 hrs and 33 mins</td>\n",
       "      <td>₹1,069.00</td>\n",
       "    </tr>\n",
       "    <tr>\n",
       "      <th>3</th>\n",
       "      <td>Raavan: Aryavart Ka Shatru [Raavan: Enemy of A...</td>\n",
       "      <td>Amish Tripathi</td>\n",
       "      <td>12-10-22</td>\n",
       "      <td>Hindi</td>\n",
       "      <td>12 hrs and 33 mins</td>\n",
       "      <td>₹836.00</td>\n",
       "    </tr>\n",
       "    <tr>\n",
       "      <th>4</th>\n",
       "      <td>The Mountain Is You</td>\n",
       "      <td>Brianna Wiest</td>\n",
       "      <td>01-04-22</td>\n",
       "      <td>English</td>\n",
       "      <td>5 hrs and 44 mins</td>\n",
       "      <td>₹668.00</td>\n",
       "    </tr>\n",
       "    <tr>\n",
       "      <th>...</th>\n",
       "      <td>...</td>\n",
       "      <td>...</td>\n",
       "      <td>...</td>\n",
       "      <td>...</td>\n",
       "      <td>...</td>\n",
       "      <td>...</td>\n",
       "    </tr>\n",
       "    <tr>\n",
       "      <th>195</th>\n",
       "      <td>Time Wise</td>\n",
       "      <td>Amantha Imber</td>\n",
       "      <td>06-10-22</td>\n",
       "      <td>English</td>\n",
       "      <td>7 hrs and 55 mins</td>\n",
       "      <td>₹888.00</td>\n",
       "    </tr>\n",
       "    <tr>\n",
       "      <th>196</th>\n",
       "      <td>12 Rules for Life</td>\n",
       "      <td>Jordan B. Peterson</td>\n",
       "      <td>16-01-18</td>\n",
       "      <td>English</td>\n",
       "      <td>15 hrs and 56 mins</td>\n",
       "      <td>₹957.00</td>\n",
       "    </tr>\n",
       "    <tr>\n",
       "      <th>197</th>\n",
       "      <td>33 Strategies of War</td>\n",
       "      <td>Robert Greene</td>\n",
       "      <td>22-07-15</td>\n",
       "      <td>English</td>\n",
       "      <td>27 hrs and 30 mins</td>\n",
       "      <td>₹820.00</td>\n",
       "    </tr>\n",
       "    <tr>\n",
       "      <th>198</th>\n",
       "      <td>Master Your Emotions: A Practical Guide to Ove...</td>\n",
       "      <td>Thibaut Meurisse</td>\n",
       "      <td>01-10-19</td>\n",
       "      <td>English</td>\n",
       "      <td>3 hrs and 54 mins</td>\n",
       "      <td>₹501.00</td>\n",
       "    </tr>\n",
       "    <tr>\n",
       "      <th>199</th>\n",
       "      <td>The Subtle Art of Not Giving a F*ck</td>\n",
       "      <td>Mark Manson</td>\n",
       "      <td>13-09-16</td>\n",
       "      <td>English</td>\n",
       "      <td>5 hrs and 17 mins</td>\n",
       "      <td>₹1,238.00</td>\n",
       "    </tr>\n",
       "  </tbody>\n",
       "</table>\n",
       "<p>200 rows × 6 columns</p>\n",
       "</div>"
      ],
      "text/plain": [
       "                                      AUDIO_BOOK_NAMES               writer  \\\n",
       "0     Harry Potter and the Philosopher's Stone, Book 1         J.K. Rowling   \n",
       "1                                    Scion of Ikshvaku                Amish   \n",
       "2                                         The Sex Book      Leeza Mangaldas   \n",
       "3    Raavan: Aryavart Ka Shatru [Raavan: Enemy of A...       Amish Tripathi   \n",
       "4                                  The Mountain Is You        Brianna Wiest   \n",
       "..                                                 ...                  ...   \n",
       "195                                          Time Wise        Amantha Imber   \n",
       "196                                  12 Rules for Life   Jordan B. Peterson   \n",
       "197                               33 Strategies of War        Robert Greene   \n",
       "198  Master Your Emotions: A Practical Guide to Ove...     Thibaut Meurisse   \n",
       "199                The Subtle Art of Not Giving a F*ck          Mark Manson   \n",
       "\n",
       "    Release_date  Language    Audio book Length       Price  \n",
       "0       20-11-15   English    9 hrs and 33 mins     ₹999.00  \n",
       "1       21-06-17   English   11 hrs and 35 mins     ₹234.00  \n",
       "2       17-10-22   English    6 hrs and 33 mins   ₹1,069.00  \n",
       "3       12-10-22     Hindi   12 hrs and 33 mins     ₹836.00  \n",
       "4       01-04-22   English    5 hrs and 44 mins     ₹668.00  \n",
       "..           ...       ...                  ...         ...  \n",
       "195     06-10-22   English    7 hrs and 55 mins     ₹888.00  \n",
       "196     16-01-18   English   15 hrs and 56 mins     ₹957.00  \n",
       "197     22-07-15   English   27 hrs and 30 mins     ₹820.00  \n",
       "198     01-10-19   English    3 hrs and 54 mins     ₹501.00  \n",
       "199     13-09-16   English    5 hrs and 17 mins   ₹1,238.00  \n",
       "\n",
       "[200 rows x 6 columns]"
      ]
     },
     "execution_count": 17,
     "metadata": {},
     "output_type": "execute_result"
    }
   ],
   "source": [
    "df_Audio_book"
   ]
  },
  {
   "cell_type": "markdown",
   "metadata": {},
   "source": [
    "# csv file is created to save the data"
   ]
  },
  {
   "cell_type": "code",
   "execution_count": 18,
   "metadata": {},
   "outputs": [],
   "source": [
    "df_Audio_book.to_csv(\"Audio_Book_List\",index=0)"
   ]
  },
  {
   "cell_type": "code",
   "execution_count": null,
   "metadata": {},
   "outputs": [],
   "source": []
  }
 ],
 "metadata": {
  "kernelspec": {
   "display_name": "Python 3",
   "language": "python",
   "name": "python3"
  },
  "language_info": {
   "codemirror_mode": {
    "name": "ipython",
    "version": 3
   },
   "file_extension": ".py",
   "mimetype": "text/x-python",
   "name": "python",
   "nbconvert_exporter": "python",
   "pygments_lexer": "ipython3",
   "version": "3.7.6"
  }
 },
 "nbformat": 4,
 "nbformat_minor": 4
}
