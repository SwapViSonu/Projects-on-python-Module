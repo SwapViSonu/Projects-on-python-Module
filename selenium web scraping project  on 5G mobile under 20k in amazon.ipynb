{
 "cells": [
  {
   "cell_type": "markdown",
   "metadata": {},
   "source": [
    "# importing modules like selenium and time"
   ]
  },
  {
   "cell_type": "code",
   "execution_count": 60,
   "metadata": {},
   "outputs": [],
   "source": [
    "from selenium import webdriver\n",
    "from selenium.webdriver.common.by import By\n",
    "from time import sleep"
   ]
  },
  {
   "cell_type": "code",
   "execution_count": null,
   "metadata": {},
   "outputs": [],
   "source": [
    "#link and chrome path are save in variable"
   ]
  },
  {
   "cell_type": "code",
   "execution_count": 61,
   "metadata": {},
   "outputs": [
    {
     "name": "stderr",
     "output_type": "stream",
     "text": [
      "C:\\Users\\PUJA\\anaconda3\\lib\\site-packages\\ipykernel_launcher.py:4: DeprecationWarning: executable_path has been deprecated, please pass in a Service object\n",
      "  after removing the cwd from sys.path.\n"
     ]
    }
   ],
   "source": [
    "link=\"https://www.amazon.in/ref=nav_logo\"\n",
    "path=r\"C:\\Users\\PUJA\\Music\\chromedriver_win32\\chromedriver\"\n",
    "\n",
    "driver=webdriver.Chrome(path)\n",
    "driver.get(link)\n",
    "driver.maximize_window()\n",
    "\n",
    "input_search=driver.find_element(By.XPATH,\"//input[@id='twotabsearchtextbox']\")\n",
    "search_button=driver.find_element(By.XPATH,\"//input[@id='nav-search-submit-button']\")\n",
    "input_search.send_keys(\"5G Smartphone under 20000 \")\n",
    "time.sleep(1)\n",
    "search_button.click()"
   ]
  },
  {
   "cell_type": "markdown",
   "metadata": {},
   "source": [
    "# Scraping the pages using for loop and save the data in form of list"
   ]
  },
  {
   "cell_type": "code",
   "execution_count": 63,
   "metadata": {},
   "outputs": [
    {
     "name": "stdout",
     "output_type": "stream",
     "text": [
      "Scraping page 1\n",
      "Scraping page 2\n",
      "Scraping page 3\n",
      "Scraping page 4\n",
      "Scraping page 5\n",
      "Scraping page 6\n",
      "Scraping page 7\n",
      "Scraping page 8\n",
      "Scraping page 9\n",
      "Scraping page 10\n"
     ]
    }
   ],
   "source": [
    "products=[] #create the variable as empty list to save the text\n",
    "\n",
    "for i in range(10): #scraping the 10 pages\n",
    "    print(\"Scraping page\", i+1)\n",
    "    product=driver.find_elements(By.XPATH, '//span[@class=\"a-size-medium a-color-base a-text-normal\"]')\n",
    "    for i in product:\n",
    "        products.append(i.text)\n",
    "    # Xpath is given for moving to next page\n",
    "    next_button=driver.find_element(By.XPATH,'//a[@class=\"s-pagination-item s-pagination-next s-pagination-button s-pagination-separator\"]')\n",
    "    next_button.click() #click the button \n",
    "    sleep(3)            # sleep time is given to scrap the data"
   ]
  },
  {
   "cell_type": "code",
   "execution_count": 45,
   "metadata": {},
   "outputs": [
    {
     "data": {
      "text/plain": [
       "162"
      ]
     },
     "execution_count": 45,
     "metadata": {},
     "output_type": "execute_result"
    }
   ],
   "source": [
    "len(products)"
   ]
  },
  {
   "cell_type": "code",
   "execution_count": 46,
   "metadata": {},
   "outputs": [
    {
     "data": {
      "text/plain": [
       "['Redmi Note 11 (Horizon Blue, 6GB RAM, 64GB Storage)|90Hz FHD+ AMOLED Display | Qualcomm® Snapdragon™ 680-6nm | 33W Charger Included | Get 2 Months of YouTube Premium Free!',\n",
       " 'Redmi 9 (Sporty Orange, 4GB RAM, 64GB Storage) | 2.3GHz Mediatek Helio G35 Octa core Processor',\n",
       " 'POCO M4 5G (Yellow, 4GB RAM 64GB RAM)',\n",
       " '(Renewed) realme 8s 5G (Universe Blue, 6GB RAM, 128GB Storage), Medium',\n",
       " 'Tecno Camon 19 Pro Mondrian (8GB RAM,128GB Storage) | Multi-Colour Changing Back-Panel',\n",
       " 'Redmi Note 11 (Horizon Blue, 4GB RAM, 64GB Storage) | 90Hz FHD+ AMOLED Display | Qualcomm® Snapdragon™ 680-6nm | 33W Charger Included | Get 2 Months of YouTube Premium Free!',\n",
       " '(Renewed) Samsung Galaxy M32 5G (Slate Black, 6GB RAM, 128GB Storage)',\n",
       " 'POCO M4 Pro 5G (Cool Blue, 4GB RAM 64GB Storage) Dual Sim 5G 50MP Dual Camera Setup 6.6 Inch FHD+ 90 Hz Display 5000 mAh Heavy Battery',\n",
       " 'POCO M4 5G (Cool Blue, 4GB RAM 64GB RAM)',\n",
       " '(Renewed) POCO M4 5G (Cool Blue, 128 GB)  (6 GB RAM)',\n",
       " '64GB ROM Smartphone, 6.4in 6000mAh Battery Face Recognition Blue 5G Smartphone with Headset for Entertainment (EU Plug)',\n",
       " '(Renewed) Tecno POVA 5G (8GB+128GB) |3GB Extended Virtual RAM |Dimensity 900 5G Processor | 120Hz Refresh Rate| 6.9\" FHD+ | 6000mAh | 50MP AI Triple Rear Camera, Aether Black',\n",
       " 'Nokia C21 Plus Android Smartphone, Dual SIM, 3-Day Battery Life, 4GB RAM + 64GB Storage, 13MP Dual Camera with HDR | Dark Cyan',\n",
       " 'vivo Y35 (Dawn Gold, 8GB RAM, 128GB Storage) with No Cost EMI/Additional Exchange Offers',\n",
       " 'Infinix Zero 5G (Cosmic Black, 128 GB) (8 GB RAM)',\n",
       " 'SAMSUNG Galaxy F13 (Waterfall Blue, 4GB RAM 64GB Storage)',\n",
       " '(Renewed) Infinix Note 12 5G (Force Black, 64 GB) (6 GB RAM)',\n",
       " 'Redmi Note 11 (Horizon Blue, 4GB RAM, 64GB Storage) | 90Hz FHD+ AMOLED Display | Qualcomm® Snapdragon™ 680-6nm | 33W Charger Included | Get 2 Months of YouTube Premium Free!',\n",
       " 'Samsung Galaxy M32 Prime Edition (Light Blue, 6GB RAM, 128GB)',\n",
       " 'Infinix Hot 12 Pro (Electric Blue, 8GB RAM 128GB Storage)',\n",
       " 'Muganiyaa Mobiles 11 Prime 5G Smartphones -Black',\n",
       " 'Muganiyaa Mobiles A21S 5G Smartphones -Black',\n",
       " 'POCO C31 (Royal Blue, 64 GB) (4 GB RAM)',\n",
       " 'Tecno POVA Neo 5G (Sprint Blue,7GB RAM,128GB Storage) | 6000mAh Battery | FHD+ Display | 50MP Rear Camera',\n",
       " 'Tecno POVA 3 (Electric Blue, 4GB RAM,64GB Storage) | 7000mAh Battery |33W Fast Charger',\n",
       " 'POCO M4 Pro (Cool Blue, 6GB RAM 64GB Storage)',\n",
       " 'OPPO A77s (Sunset Orange, 8GB RAM, 128 Storage) with No Cost EMI/Additional Exchange Offers',\n",
       " 'Smartphone 9 5G (Supersonic Black, 4GB RAM 64GB Storage)',\n",
       " 'OPPO A15s (Fancy White, 4GB, 128GB Storage) AI Triple Camera | 6.52\" HD+ Screen | 2.3GHz Mediatek Helio P35 Octa Core Processor',\n",
       " 'OPPO K10 (Black Carbon, 6GB RAM 128GB Storage)',\n",
       " 'Tecno Spark 9 (Sky Mirror, 6GB RAM,128GB Storage) | 11GB Expandable RAM | Helio G37 Gaming Processor',\n",
       " '64GB ROM Smartphone, 6.4in 6000mAh Battery Face Recognition Blue 5G Smartphone with Headset for Entertainment (EU Plug)',\n",
       " 'Redmi 10A (Slate Grey, 4GB RAM, 64GB Storage) | 2 Ghz Octa Core Helio G25 | 5000 mAh Battery | Finger Print Sensor | Upto 5GB RAM with RAM Booster',\n",
       " 'Samsung Galaxy M13 (Midnight Blue, 6GB, 128GB Storage) | 6000mAh Battery | Upto 12GB RAM with RAM Plus',\n",
       " '(Renewed) Infinix Note 12 5G (Force Black, 64 GB) (6 GB RAM)',\n",
       " 'vivo Y22 (Starlit Blue, 6GB RAM, 128GB Storage) with No Cost EMI/Additional Exchange Offers',\n",
       " 'Samsung Galaxy A22 5G (Violet, 6GB RAM, 128GB Storage) Without Offer',\n",
       " 'Mobile Phone, Smartphone Ten Cores 7000mah 6.2inch 8MP and 16MP UE 100-240V with Business Adapter (Blue)',\n",
       " '(Renewed) realme Narzo 30 5G (Racing Silver, 6GB RAM, 128GB Storage) Without Offers',\n",
       " '(Renewed) POCO M4 Pro 5G (Cool Blue, 8GB RAM, 128GB Storage)',\n",
       " 'Maplin Model Hexin H3 4GB /128 GB with 21 Mpx Rear Camera and 13 Mpx Front Camera 6.26 in ch Touchscreen Smartphone (Haze Blue)',\n",
       " 'Redmi 10 Prime (Astral White 6GB RAM 128GB ROM |Helio G88 with extendable RAM Upto 2GB |FHD+ 90Hz Adaptive Sync Display)',\n",
       " 'realme 9 5G (Supersonic Black, 4GB RAM 64GB Storage)',\n",
       " '(Renewed) realme 8s 5G (Universe Purple, 6GB RAM, 128GB Storage), Medium',\n",
       " 'Redmi Note 11S (Space Black, 8GB RAM, 128GB Storage)|108MP AI Quad Camera | 90 Hz FHD+ AMOLED Display | 33W Charger Included | Additional Exchange Offers| Get 2 Months of YouTube Premium Free!',\n",
       " 'Redmi Note 11 (Space Black, 6GB RAM, 128GB Storage)|90Hz FHD+ AMOLED Display | Qualcomm® Snapdragon™ 680-6nm | 33W Charger Included | Get 2 Months of YouTube Premium Free!',\n",
       " '(Renewed) Lava Agni 5G Fiery Blue (8GB RAM, 128GB Storage)',\n",
       " 'Vivo U20 (Blazing Blue, Snapdragon 675 AIE, 4GB RAM, 64GB Storage)',\n",
       " 'Redmi 9A Sport (Coral Green, 2GB RAM, 32GB Storage) | 2GHz Octa-core Helio G25 Processor | 5000 mAh Battery',\n",
       " 'realme narzo 50 (Speed Black, 4GB RAM+64GB Storage) Helio G96 Processor | 50MP AI Triple Camera | 120Hz Ultra Smooth Display',\n",
       " 'Redmi Note 11S (Polar White, 6GB RAM, 128GB Storage)|108MP AI Quad Camera | 90 Hz FHD+ AMOLED Display | 33W Charger Included | Additional Exchange Offers| Get 2 Months of YouTube Premium Free!',\n",
       " 'Redmi Note 11 (Space Black, 4GB RAM, 64GB Storage)|90Hz FHD+ AMOLED Display | Qualcomm® Snapdragon™ 680-6nm | 33W Charger Included | Get 2 Months of YouTube Premium Free!',\n",
       " '(Renewed) realme Narzo 30 5G (Racing Silver, 6GB RAM, 128GB Storage) Without Offers',\n",
       " 'Smartphone narzo 50 5G (Hyper Black, 64 GB) (4 MB RAM)',\n",
       " 'Redmi Note 11S (Space Black, 6GB RAM, 128GB Storage)|108MP AI Quad Camera | 90 Hz FHD+ AMOLED Display | 33W Charger Included | Additional Exchange Offers|Get 2 Months of YouTube Premium Free!',\n",
       " '(Renewed) Samsung Galaxy M52 5G (Blazing Black, 6GB RAM, 128GB Storage) Latest Snapdragon 778G 5G | sAMOLED 120Hz Display',\n",
       " '(Renewed) Realme 8 (Cyber Black, 6GB RAM, 128GB Storage)',\n",
       " 'realme narzo 50 (Speed Black, 4GB RAM+64GB Storage) Helio G96 Processor | 50MP AI Triple Camera | 120Hz Ultra Smooth Display',\n",
       " '(Renewed) Xiaomi 11i 5G (Purple Mist, 6GB RAM, 128GB Storage)',\n",
       " '(Renewed) Nokia G21 Android Smartphone, Dual SIM, 3-Day Battery Life, 6GB RAM + 128GB Storage, 50MP Triple AI Camera | Dusk',\n",
       " '(Renewed) SAMSUNG Galaxy F23 5G (Aqua Blue, 4GB RAM 128GB Storage)',\n",
       " 'OPPO A77s (Starry Black, 8GB RAM, 128 Storage) with No Cost EMI/Additional Exchange Offers',\n",
       " 'MOTOROLA e32s (Slate Gray, 4GB RAM 64GB Storage)',\n",
       " 'Redmi 9 Activ (Coral Green, 6GB RAM, 128GB Storage)',\n",
       " 'Realme C35 (Glowing Green, 4GB RAM, 128GB Storage)',\n",
       " 'iQOO Z6 44W (Raven Black, 4GB RAM, 128GB Storage)',\n",
       " 'Redmi A1 (Black, 2GB RAM, 32GB Storage) | Helio A22 | 5000 mAh Battery | 8MP AI Dual Cam | Leather Texture Design | Android 12',\n",
       " '(Renewed) Realme 8 (Cyber Black, 6GB RAM, 128GB Storage)',\n",
       " 'Smartphone 50A 5G 4GB RAM, 64GB RAM',\n",
       " 'iQOO Z6 44W (Lumina Blue, 4GB RAM, 128GB Storage)',\n",
       " 'Redmi Note 11 (Starburst White, 4GB RAM, 64GB Storage) | 90Hz FHD+ AMOLED Display | Qualcomm® Snapdragon™ 680-6nm | 33W Charger Included | Get 2 Months of YouTube Premium Free!',\n",
       " 'Samsung Galaxy A03 Black, 3GB RAM, 32GB Storage Without Offers',\n",
       " 'Samsung Galaxy M12 (Blue,4GB RAM, 64GB Storage) 6000 mAh with 8nm Processor | True 48 MP Quad Camera | 90Hz Refresh Rate',\n",
       " '(Renewed) Samsung Galaxy M52 5G (ICY Blue, 6GB RAM, 128GB Storage) Latest Snapdragon 778G 5G | sAMOLED 120Hz Display',\n",
       " 'vivo Y16 (Stellar Black, 3GB RAM, 32GB Storage) with No Cost EMI/Additional Exchange Offers',\n",
       " 'vivo Y35 (Agate Black, 8GB RAM, 128GB Storage) with No Cost EMI/Additional Exchange Offers',\n",
       " 'Motorola g22 (Mint Green, 64 GB) (4 GB RAM)',\n",
       " 'Lava Yuva Pro (3GB RAM, 32GB Storage) - Metallic Grey| 13 MP AI Triple Camera |Side Fingerprint Sensor| Long Lasting 5000 mAh Battery| 6.5 inch(16.5cm) HD+ Display',\n",
       " '(Renewed) Realme Narzo 50 5G (Hyper Black, 6GB RAM, 128GB Storage)',\n",
       " 'Tecno POVA 3 (Eco Black, 6GB RAM,128GB Storage) | 7000mAh Battery |33W Fast Charger',\n",
       " \"Skyshop Melrose 4G LTE Volte World's Smallest Credit Card Size Mini Smartphone Android 7.0 Quad Core 2GB and 32GB 1580mAh Dual Camera Fingerprint Mobile (White)\",\n",
       " '(Renewed) Realme X7 Pro 5G (Mystic Black, 8GB RAM, 128GB Storage)',\n",
       " '(Renewed) Redmi Note 11S (Space Black, 6GB RAM, 64GB Storage)|108MP AI Quad Camera | 90 Hz FHD+ AMOLED Display | 33W Charger Included',\n",
       " 'Redmi Note 11 (Horizon Blue, 6GB RAM, 64GB Storage)|90Hz FHD+ AMOLED Display | Qualcomm® Snapdragon™ 680-6nm | 33W Charger Included | Get 2 Months of YouTube Premium Free!',\n",
       " 'Smartphone 9 5G (Meteor Black,4GB+64GB) Dimensity 810 Processor 48 MP AI Tripl',\n",
       " 'realme narzo 50i (Mint Green, 2GB RAM+32GB Storage) Octa Core Processor | 6.5\" inch Large Display',\n",
       " '(Renewed) realme 8s 5G (Universe Blue, 8GB RAM, 128GB Storage), Medium',\n",
       " 'Smartphone 9 5G (Meteor Black,4GB+64GB) Dimensity 810 Processor 48 MP AI Triple',\n",
       " 'Realme C35 (Glowing Green, 6GB RAM, 128GB Storage)',\n",
       " 'iQOO Z6 44W (Raven Black, 6GB RAM, 128GB Storage)',\n",
       " 'Samsung Galaxy M32 Prime Edition (Black, 4GB RAM, 64GB)',\n",
       " 'realme narzo 50A Prime (Flash Blue, 4GB RAM+128GB Storage) FHD+ Display | 50MP AI Triple Camera (No Charger Variant)',\n",
       " '(Renewed) Nokia G21 Android Smartphone, Dual SIM, 3-Day Battery Life, 6GB RAM + 128GB Storage, 50MP Triple AI Camera | Nordic Blue',\n",
       " 'Maplin S30 (8GB RAM/128 GM Internal Memory) with 30W Fast Charging, Mediatek Dimensity 720 5G Octa Core Processor and 6.67 inch Touchscreen Smartphone (Black)',\n",
       " 'Tecno Spark 9 (Infinity Black, 4GB RAM,64GB Storage) | 7GB Expandable RAM | Helio G37 Gaming Processor',\n",
       " '(Renewed) realme 8 5G (4 GB RAM, 64GB ROM) (Supersonic Black)',\n",
       " 'Nokia C21 Plus Android Smartphone, Dual SIM, 3-Day Battery Life, 3GB RAM + 32GB Storage, 13MP Dual Camera with HDR | Warm Grey',\n",
       " 'Redmi Note 11 (Starburst White, 6GB RAM, 128GB Storage)|90Hz FHD+ AMOLED Display | Qualcomm® Snapdragon™ 680-6nm | 33W Charger Included | Get 2 Months of YouTube Premium Free!',\n",
       " 'Nokia C21 Plus Android Smartphone, Dual SIM, 3-Day Battery Life, 3GB RAM + 32GB Storage, 13MP Dual Camera with HDR | Warm Grey',\n",
       " 'Redmi Note 11 (Starburst White, 6GB RAM, 128GB Storage)|90Hz FHD+ AMOLED Display | Qualcomm® Snapdragon™ 680-6nm | 33W Charger Included | Get 2 Months of YouTube Premium Free!',\n",
       " 'JioFi Next 32 GB, 2 GB RAM, Blue Smartphone',\n",
       " 'realme narzo 50i (Mint Green, 4GB RAM+64GB Storage) Octa Core Processor | 6.5\" inch Large Display',\n",
       " 'Tecno Spark Go 2021 (Horizon Orange, 2GB RAM, 32GB Storage) | 5000mAh| 6.52\" Display Smartphone',\n",
       " 'Nokia G21 Android Smartphone, Dual SIM, 3-Day Battery Life, 4GB RAM + 64GB Storage, 50MP Triple AI Camera | Dusk',\n",
       " '(Renewed) Samsung Galaxy M32 5G (Sky Blue, 6GB RAM, 128GB Storage)',\n",
       " 'MOTOROLA e32s (Misty Silver, 3GB RAM 32GB Storage)',\n",
       " 'Redmi 9A Sport (Carbon Black, 2GB RAM, 32GB Storage) | 2GHz Octa-core Helio G25 Processor | 5000 mAh Battery',\n",
       " 'realme narzo 50i Prime (Dark Blue 4GB RAM+64GB Storage) Octa-core Processor | 5000 mAh Battery',\n",
       " '(Renewed) Infinix Note 12 Smart Phone,RAM-6GB, Internal Memory-128GB,Color-Jewel Blue',\n",
       " 'Nokia G21 Android Smartphone, Dual SIM, 3-Day Battery Life, 4GB RAM + 64GB Storage, 50MP Triple AI Camera | Nordic Blue',\n",
       " 'Sushil Collections- Smartphone 9 5G (6GB RAM 128GB ROM)',\n",
       " '(Renewed) OnePlus 5 (Black 8GB RAM + 128GB Memory)',\n",
       " '(Renewed) Samsung Galaxy A33 5G Light Blue, 8GB RAM, 128GB Storage',\n",
       " 'Redmi 9A (Nature Green, 2GB RAM, 32GB Storage) | 2GHz Octa-core Helio G25 Processor | 5000 mAh Battery',\n",
       " '(Renewed) OPPO A55 (Rainbow Blue, 6GB RAM, 128GB Storage) with No Cost EMI/Additional Exchange Offers',\n",
       " 'MOTOROLA e32s (Slate Gray, 3GB RAM 32GB Storage)',\n",
       " 'vivo Y22 (Metaverse Green, 4GB RAM, 64GB Storage) with No Cost EMI/Additional Exchange Offers',\n",
       " 'Maplin Pluzz P13 4G Volte (8 GB / 256 GB) with 6.3 Inch FHD Smartphone (Blue)',\n",
       " '(Renewed) realme Narzo 30 (Racing Silver, 4GB RAM, 64GB Storage) Without Offers',\n",
       " 'Redmi Note 11S (Polar White, 6GB RAM, 64GB Storage)|108MP AI Quad Camera | 90 Hz FHD+ AMOLED Display | 33W Charger Included | Additional Exchange Offers|Get 2 Months of YouTube Premium Free!',\n",
       " 'Samsung Galaxy M32 Prime Edition (Light Blue, 4GB RAM, 64GB)',\n",
       " 'Nokia C01 Plus 4G, 5.45” HD+ Screen, Selfie Camera with Front Flash (Blue)',\n",
       " 'OPPO A77 (Sky Blue, 4GB RAM, 64 Storage) with No Cost EMI/Additional Exchange Offers',\n",
       " 'Redmi 9 Activ (Metallic Purple, 4GB RAM, 64GB Storage) | Octa-core Helio G35 | 5000 mAh Battery',\n",
       " 'Samsung Galaxy M13 (Stardust Brown, 4GB, 64GB Storage) | 6000mAh Battery | Upto 8GB RAM with RAM Plus',\n",
       " 'iQOO Z6 44W (Lumina Blue, 6GB RAM, 128GB Storage)',\n",
       " 'Redmi Note 10S (Deep Sea Blue, 6GB RAM, 64GB Storage) - Super Amoled Display | 64 MP Quad Camera | 6 Month Free Screen Replacement (Prime only) |33W Charger Included',\n",
       " 'Micromax in 1b (Blue, 64 GB)  (4 GB RAM)',\n",
       " 'Tecno POVA 3 (Tech Silver, 4GB RAM,64GB Storage) | 7000mAh Battery |33W Fast Charger',\n",
       " 'Redmi 10A (Charcoal Black, 4GB RAM, 64GB Storage) | 2 Ghz Octa Core Helio G25 | 5000 mAh Battery | Finger Print Sensor | Upto 5GB RAM with RAM Booster',\n",
       " 'realme narzo 50A Prime (Flash Black, 4GB RAM+64GB Storage) Full High Definition+ Display (No Charger Variant)',\n",
       " 'Tecno POVA 3 (Tech Silver, 4GB RAM,64GB Storage) | 7000mAh Battery |33W Fast Charger',\n",
       " 'Tecno Spark 8C Diamond Grey (3GB RAM,64GB Storage) | Upto 6GB RAM | 13MP Dual Camera',\n",
       " '(Renewed) Redmi Note 11T 5G (Stardust White 6GB RAM 128GB ROM) | Dimensity 810 5G | 33W Pro Fast Charging | Charger Included',\n",
       " 'POCO M4 Pro (Power Black, 6GB RAM 64GB Storage)',\n",
       " 'Tecno POVA 3 (Tech Silver, 6GB RAM,128GB Storage) | 7000mAh Battery |33W Fast Charger',\n",
       " 'Tecno Pop 5 LTE (Turquoise Cyan, 2GB RAM,32GB Storage) | Front Flash | 8MP Dual Camera',\n",
       " 'Oppo A54 (Starry Blue, 4GB RAM, 128GB Storage) with No Cost EMI & Additional Exchange Offers',\n",
       " 'Infinix Hot 11 2022 (Aurora Green, 4GB RAM 64GB Storage)',\n",
       " '(Renewed) Tecno Spark Go 2021 (Galaxy Blue 2GB RAM, 32GB Storage)|5000mAh| 6.52\" Display Smartphone',\n",
       " 'Redmi 10 Prime (Phantom Black 6GB RAM 128GB ROM |Helio G88 with extendable RAM Upto 2GB |FHD+ 90Hz Adaptive Sync Display)',\n",
       " 'Redmi 10A (Sea Blue, 4GB RAM, 64GB Storage) | 2 Ghz Octa Core Helio G25 | 5000 mAh Battery | Finger Print Sensor | Upto 5GB RAM with RAM Booster',\n",
       " 'Nokia C01 Plus 4G, 5.45” HD+ Screen, Selfie Camera with Front Flash | 32GB Storage (Grey)',\n",
       " 'realme narzo 50 (Speed Blue, 6GB RAM+128GB Storage) Helio G96 Processor | 50MP AI Triple Camera | 120Hz Ultra Smooth Display',\n",
       " 'Oppo A55 (Rainbow Blue, 6GB RAM, 128GB Storage) Without Offers',\n",
       " 'Tecno Spark 8T (Atlantic Blue, 4GB RAM,64GB Storage)| 50MP AI Camera | 7GB Expandable RAM',\n",
       " 'I KALL K475 Smartphone (4GB, 64GB) (Gold)',\n",
       " 'Tecno Spark 9T (Turquoise Cyan, 4GB RAM,64GB Storage) | 50MP SuperNight Triple Camera | 18W Flash Charger',\n",
       " 'I KALL Z3 Smartphone (6.26\" HD+ Display, 4GB, 64GB) (Emerald Green)',\n",
       " 'Tecno POVA 3 (Tech Silver, 4GB RAM,64GB Storage) | 7000mAh Battery |33W Fast Charger',\n",
       " 'Vivo Y21 (Midnight Blue, 4GB RAM, 64GB Storage) Without Offers',\n",
       " 'Tecno POVA 3 (Tech Silver, 4GB RAM,64GB Storage) | 7000mAh Battery |33W Fast Charger',\n",
       " 'Samsung Galaxy M13 (Stardust Brown, 6GB, 128GB Storage) | 6000mAh Battery | Upto 12GB RAM with RAM Plus',\n",
       " 'Nokia C21 Plus Android Smartphone, Dual SIM, 3-Day Battery Life, 3GB RAM + 32GB Storage, 13MP Dual Camera with HDR | Dark Cyan',\n",
       " 'SAMSUNG Galaxy F13 (Nightsky Green, 4GB RAM 64GB Storage)',\n",
       " 'Vivo Y21G (Midnight Blue, 4GB RAM, 64GB ROM) Without Offers',\n",
       " '(Renewed) Vivo V21e 5G (Dark Pearl, 8GB RAM, 128GB Storage) with No Cost EMI/Additional Exchange Offers',\n",
       " 'OPPO A54 (Crystal Black, 4GB RAM, 64GB Storage) with No Cost EMI & Additional Exchange Offers',\n",
       " 'Samsung Galaxy A13 Blue, 4GB RAM, 128GB Storage with No Cost EMI/Additional Exchange Offers, (SM-A135FLBHINS)',\n",
       " 'Nokia 2.2 2/16 Black',\n",
       " 'Tecno Spark 8T (Turquoise Cyan, 4GB RAM,64GB Storage) | 50MP AI Camera | 7GB Expandable RAM',\n",
       " 'I KALL K450 Smartphone (6.26 Inch, 4GB, 32GB) (Dark Blue)']"
      ]
     },
     "execution_count": 46,
     "metadata": {},
     "output_type": "execute_result"
    }
   ],
   "source": [
    "products"
   ]
  },
  {
   "cell_type": "code",
   "execution_count": 49,
   "metadata": {},
   "outputs": [],
   "source": [
    "import pandas as pd\n",
    "df_Mobile=pd.DataFrame()\n",
    "df_Mobile[\"5G Mobile under 20k\"]=products"
   ]
  },
  {
   "cell_type": "code",
   "execution_count": 50,
   "metadata": {},
   "outputs": [
    {
     "data": {
      "text/html": [
       "<div>\n",
       "<style scoped>\n",
       "    .dataframe tbody tr th:only-of-type {\n",
       "        vertical-align: middle;\n",
       "    }\n",
       "\n",
       "    .dataframe tbody tr th {\n",
       "        vertical-align: top;\n",
       "    }\n",
       "\n",
       "    .dataframe thead th {\n",
       "        text-align: right;\n",
       "    }\n",
       "</style>\n",
       "<table border=\"1\" class=\"dataframe\">\n",
       "  <thead>\n",
       "    <tr style=\"text-align: right;\">\n",
       "      <th></th>\n",
       "      <th>5G Mobile under 20k</th>\n",
       "    </tr>\n",
       "  </thead>\n",
       "  <tbody>\n",
       "    <tr>\n",
       "      <th>0</th>\n",
       "      <td>Redmi Note 11 (Horizon Blue, 6GB RAM, 64GB Sto...</td>\n",
       "    </tr>\n",
       "    <tr>\n",
       "      <th>1</th>\n",
       "      <td>Redmi 9 (Sporty Orange, 4GB RAM, 64GB Storage)...</td>\n",
       "    </tr>\n",
       "    <tr>\n",
       "      <th>2</th>\n",
       "      <td>POCO M4 5G (Yellow, 4GB RAM 64GB RAM)</td>\n",
       "    </tr>\n",
       "    <tr>\n",
       "      <th>3</th>\n",
       "      <td>(Renewed) realme 8s 5G (Universe Blue, 6GB RAM...</td>\n",
       "    </tr>\n",
       "    <tr>\n",
       "      <th>4</th>\n",
       "      <td>Tecno Camon 19 Pro Mondrian (8GB RAM,128GB Sto...</td>\n",
       "    </tr>\n",
       "    <tr>\n",
       "      <th>...</th>\n",
       "      <td>...</td>\n",
       "    </tr>\n",
       "    <tr>\n",
       "      <th>157</th>\n",
       "      <td>OPPO A54 (Crystal Black, 4GB RAM, 64GB Storage...</td>\n",
       "    </tr>\n",
       "    <tr>\n",
       "      <th>158</th>\n",
       "      <td>Samsung Galaxy A13 Blue, 4GB RAM, 128GB Storag...</td>\n",
       "    </tr>\n",
       "    <tr>\n",
       "      <th>159</th>\n",
       "      <td>Nokia 2.2 2/16 Black</td>\n",
       "    </tr>\n",
       "    <tr>\n",
       "      <th>160</th>\n",
       "      <td>Tecno Spark 8T (Turquoise Cyan, 4GB RAM,64GB S...</td>\n",
       "    </tr>\n",
       "    <tr>\n",
       "      <th>161</th>\n",
       "      <td>I KALL K450 Smartphone (6.26 Inch, 4GB, 32GB) ...</td>\n",
       "    </tr>\n",
       "  </tbody>\n",
       "</table>\n",
       "<p>162 rows × 1 columns</p>\n",
       "</div>"
      ],
      "text/plain": [
       "                                   5G Mobile under 20k\n",
       "0    Redmi Note 11 (Horizon Blue, 6GB RAM, 64GB Sto...\n",
       "1    Redmi 9 (Sporty Orange, 4GB RAM, 64GB Storage)...\n",
       "2                POCO M4 5G (Yellow, 4GB RAM 64GB RAM)\n",
       "3    (Renewed) realme 8s 5G (Universe Blue, 6GB RAM...\n",
       "4    Tecno Camon 19 Pro Mondrian (8GB RAM,128GB Sto...\n",
       "..                                                 ...\n",
       "157  OPPO A54 (Crystal Black, 4GB RAM, 64GB Storage...\n",
       "158  Samsung Galaxy A13 Blue, 4GB RAM, 128GB Storag...\n",
       "159                               Nokia 2.2 2/16 Black\n",
       "160  Tecno Spark 8T (Turquoise Cyan, 4GB RAM,64GB S...\n",
       "161  I KALL K450 Smartphone (6.26 Inch, 4GB, 32GB) ...\n",
       "\n",
       "[162 rows x 1 columns]"
      ]
     },
     "execution_count": 50,
     "metadata": {},
     "output_type": "execute_result"
    }
   ],
   "source": [
    "df_Mobile"
   ]
  },
  {
   "cell_type": "code",
   "execution_count": null,
   "metadata": {},
   "outputs": [],
   "source": [
    "df_mobile.to_csv(\"5G mobile under 20k in Amazon\",index=False)"
   ]
  }
 ],
 "metadata": {
  "kernelspec": {
   "display_name": "Python 3",
   "language": "python",
   "name": "python3"
  },
  "language_info": {
   "codemirror_mode": {
    "name": "ipython",
    "version": 3
   },
   "file_extension": ".py",
   "mimetype": "text/x-python",
   "name": "python",
   "nbconvert_exporter": "python",
   "pygments_lexer": "ipython3",
   "version": "3.7.6"
  }
 },
 "nbformat": 4,
 "nbformat_minor": 4
}
